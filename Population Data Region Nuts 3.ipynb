{
 "cells": [
  {
   "cell_type": "code",
   "execution_count": 1,
   "metadata": {},
   "outputs": [],
   "source": [
    "import pandas as pd\n",
    "import numpy as np"
   ]
  },
  {
   "cell_type": "code",
   "execution_count": 2,
   "metadata": {},
   "outputs": [],
   "source": [
    "data_dir = \"./data/demo_r_gind3_1_Data.csv\""
   ]
  },
  {
   "cell_type": "code",
   "execution_count": 3,
   "metadata": {},
   "outputs": [
    {
     "name": "stderr",
     "output_type": "stream",
     "text": [
      "/home/alex/.local/lib/python3.5/site-packages/ipykernel_launcher.py:3: FutureWarning: from_csv is deprecated. Please use read_csv(...) instead. Note that some of the default arguments are different, so please refer to the documentation for from_csv when changing your function calls\n",
      "  This is separate from the ipykernel package so we can avoid doing imports until\n"
     ]
    },
    {
     "data": {
      "text/html": [
       "<div>\n",
       "<style scoped>\n",
       "    .dataframe tbody tr th:only-of-type {\n",
       "        vertical-align: middle;\n",
       "    }\n",
       "\n",
       "    .dataframe tbody tr th {\n",
       "        vertical-align: top;\n",
       "    }\n",
       "\n",
       "    .dataframe thead th {\n",
       "        text-align: right;\n",
       "    }\n",
       "</style>\n",
       "<table border=\"1\" class=\"dataframe\">\n",
       "  <thead>\n",
       "    <tr style=\"text-align: right;\">\n",
       "      <th></th>\n",
       "      <th>Year</th>\n",
       "      <th>GEO</th>\n",
       "      <th>GEO_LABEL</th>\n",
       "      <th>Value</th>\n",
       "    </tr>\n",
       "  </thead>\n",
       "  <tbody>\n",
       "    <tr>\n",
       "      <th>0</th>\n",
       "      <td>2000</td>\n",
       "      <td>BE</td>\n",
       "      <td>Belgium</td>\n",
       "      <td>10,239,085</td>\n",
       "    </tr>\n",
       "    <tr>\n",
       "      <th>1</th>\n",
       "      <td>2000</td>\n",
       "      <td>BE1</td>\n",
       "      <td>Région de Bruxelles-Capitale / Brussels Hoofds...</td>\n",
       "      <td>959,318</td>\n",
       "    </tr>\n",
       "    <tr>\n",
       "      <th>2</th>\n",
       "      <td>2000</td>\n",
       "      <td>BE10</td>\n",
       "      <td>Région de Bruxelles-Capitale / Brussels Hoofds...</td>\n",
       "      <td>959,318</td>\n",
       "    </tr>\n",
       "    <tr>\n",
       "      <th>3</th>\n",
       "      <td>2000</td>\n",
       "      <td>BE100</td>\n",
       "      <td>Arr. de Bruxelles-Capitale / Arr. van Brussel-...</td>\n",
       "      <td>959,318</td>\n",
       "    </tr>\n",
       "    <tr>\n",
       "      <th>4</th>\n",
       "      <td>2000</td>\n",
       "      <td>BE2</td>\n",
       "      <td>Vlaams Gewest</td>\n",
       "      <td>5,940,251</td>\n",
       "    </tr>\n",
       "  </tbody>\n",
       "</table>\n",
       "</div>"
      ],
      "text/plain": [
       "   Year    GEO                                          GEO_LABEL       Value\n",
       "0  2000     BE                                            Belgium  10,239,085\n",
       "1  2000    BE1  Région de Bruxelles-Capitale / Brussels Hoofds...     959,318\n",
       "2  2000   BE10  Région de Bruxelles-Capitale / Brussels Hoofds...     959,318\n",
       "3  2000  BE100  Arr. de Bruxelles-Capitale / Arr. van Brussel-...     959,318\n",
       "4  2000    BE2                                      Vlaams Gewest   5,940,251"
      ]
     },
     "execution_count": 3,
     "metadata": {},
     "output_type": "execute_result"
    }
   ],
   "source": [
    "\n",
    "\n",
    "data = pd.DataFrame.from_csv(data_dir, encoding = \"ISO-8859-1\")\n",
    "data.index = pd.Index(map(lambda x: x.year, data.index))\n",
    "data = data.reset_index()\n",
    "data = data.drop([data.columns[3], data.columns[5]], axis=1)\n",
    "data = data.rename(columns={\"index\": \"Year\"})\n",
    "data.head()"
   ]
  },
  {
   "cell_type": "code",
   "execution_count": 4,
   "metadata": {},
   "outputs": [
    {
     "data": {
      "text/plain": [
       "'10,239,085'"
      ]
     },
     "execution_count": 4,
     "metadata": {},
     "output_type": "execute_result"
    }
   ],
   "source": [
    "# Get BE Year 2000\n",
    "data[(data[\"Year\"] == 2000) & (data[\"GEO\"] == \"BE\")].iloc[0].Value"
   ]
  },
  {
   "cell_type": "code",
   "execution_count": 5,
   "metadata": {
    "scrolled": true
   },
   "outputs": [
    {
     "data": {
      "text/plain": [
       "'10,263,414'"
      ]
     },
     "execution_count": 5,
     "metadata": {},
     "output_type": "execute_result"
    }
   ],
   "source": [
    "# Get BE Year 2001\n",
    "data[(data[\"Year\"] == 2001) & (data[\"GEO\"] == \"BE\")].iloc[0].Value"
   ]
  },
  {
   "cell_type": "code",
   "execution_count": 17,
   "metadata": {},
   "outputs": [
    {
     "data": {
      "text/html": [
       "<div>\n",
       "<style scoped>\n",
       "    .dataframe tbody tr th:only-of-type {\n",
       "        vertical-align: middle;\n",
       "    }\n",
       "\n",
       "    .dataframe tbody tr th {\n",
       "        vertical-align: top;\n",
       "    }\n",
       "\n",
       "    .dataframe thead th {\n",
       "        text-align: right;\n",
       "    }\n",
       "</style>\n",
       "<table border=\"1\" class=\"dataframe\">\n",
       "  <thead>\n",
       "    <tr style=\"text-align: right;\">\n",
       "      <th></th>\n",
       "      <th>Value</th>\n",
       "    </tr>\n",
       "    <tr>\n",
       "      <th>GEO</th>\n",
       "      <th></th>\n",
       "    </tr>\n",
       "  </thead>\n",
       "  <tbody>\n",
       "    <tr>\n",
       "      <th>AL</th>\n",
       "      <td>[3,058,497, 3,063,318, 3,057,018, 3,044,993, 3...</td>\n",
       "    </tr>\n",
       "    <tr>\n",
       "      <th>AL0</th>\n",
       "      <td>[:, :, 3,057,018, 3,044,993, 3,034,231, 3,019,...</td>\n",
       "    </tr>\n",
       "    <tr>\n",
       "      <th>AL01</th>\n",
       "      <td>[:, :, :, :, :, :, :, :, :, :, :, :, 861,058, ...</td>\n",
       "    </tr>\n",
       "    <tr>\n",
       "      <th>AL011</th>\n",
       "      <td>[:, :, :, :, :, :, :, :, :, :, :, :, 140,956, ...</td>\n",
       "    </tr>\n",
       "    <tr>\n",
       "      <th>AL012</th>\n",
       "      <td>[:, :, :, :, :, :, :, :, :, :, :, :, 271,947, ...</td>\n",
       "    </tr>\n",
       "  </tbody>\n",
       "</table>\n",
       "</div>"
      ],
      "text/plain": [
       "                                                   Value\n",
       "GEO                                                     \n",
       "AL     [3,058,497, 3,063,318, 3,057,018, 3,044,993, 3...\n",
       "AL0    [:, :, 3,057,018, 3,044,993, 3,034,231, 3,019,...\n",
       "AL01   [:, :, :, :, :, :, :, :, :, :, :, :, 861,058, ...\n",
       "AL011  [:, :, :, :, :, :, :, :, :, :, :, :, 140,956, ...\n",
       "AL012  [:, :, :, :, :, :, :, :, :, :, :, :, 271,947, ..."
      ]
     },
     "execution_count": 17,
     "metadata": {},
     "output_type": "execute_result"
    }
   ],
   "source": [
    "list_per_code = data.groupby(\"GEO\").agg(lambda x: x.tolist())\n",
    "list_per_code = list_per_code.drop([\"Year\", \"GEO_LABEL\"], axis=1)\n",
    "list_per_code.head(5)"
   ]
  },
  {
   "cell_type": "code",
   "execution_count": 18,
   "metadata": {},
   "outputs": [
    {
     "data": {
      "text/html": [
       "<div>\n",
       "<style scoped>\n",
       "    .dataframe tbody tr th:only-of-type {\n",
       "        vertical-align: middle;\n",
       "    }\n",
       "\n",
       "    .dataframe tbody tr th {\n",
       "        vertical-align: top;\n",
       "    }\n",
       "\n",
       "    .dataframe thead th {\n",
       "        text-align: right;\n",
       "    }\n",
       "</style>\n",
       "<table border=\"1\" class=\"dataframe\">\n",
       "  <thead>\n",
       "    <tr style=\"text-align: right;\">\n",
       "      <th></th>\n",
       "      <th>2000</th>\n",
       "      <th>2001</th>\n",
       "      <th>2002</th>\n",
       "      <th>2003</th>\n",
       "      <th>2004</th>\n",
       "      <th>2005</th>\n",
       "      <th>2006</th>\n",
       "      <th>2007</th>\n",
       "      <th>2008</th>\n",
       "      <th>2009</th>\n",
       "      <th>2010</th>\n",
       "      <th>2011</th>\n",
       "      <th>2012</th>\n",
       "      <th>2013</th>\n",
       "      <th>2014</th>\n",
       "      <th>2015</th>\n",
       "      <th>2016</th>\n",
       "      <th>2017</th>\n",
       "      <th>2018</th>\n",
       "    </tr>\n",
       "    <tr>\n",
       "      <th>GEO</th>\n",
       "      <th></th>\n",
       "      <th></th>\n",
       "      <th></th>\n",
       "      <th></th>\n",
       "      <th></th>\n",
       "      <th></th>\n",
       "      <th></th>\n",
       "      <th></th>\n",
       "      <th></th>\n",
       "      <th></th>\n",
       "      <th></th>\n",
       "      <th></th>\n",
       "      <th></th>\n",
       "      <th></th>\n",
       "      <th></th>\n",
       "      <th></th>\n",
       "      <th></th>\n",
       "      <th></th>\n",
       "      <th></th>\n",
       "    </tr>\n",
       "  </thead>\n",
       "  <tbody>\n",
       "    <tr>\n",
       "      <th>AL</th>\n",
       "      <td>3,058,497</td>\n",
       "      <td>3,063,318</td>\n",
       "      <td>3,057,018</td>\n",
       "      <td>3,044,993</td>\n",
       "      <td>3,034,231</td>\n",
       "      <td>3,019,634</td>\n",
       "      <td>3,003,329</td>\n",
       "      <td>2,981,755</td>\n",
       "      <td>2,958,266</td>\n",
       "      <td>2,936,355</td>\n",
       "      <td>2,918,674</td>\n",
       "      <td>2,907,361</td>\n",
       "      <td>2,903,008</td>\n",
       "      <td>2,897,770</td>\n",
       "      <td>2,892,394</td>\n",
       "      <td>2,885,796</td>\n",
       "      <td>2,875,592</td>\n",
       "      <td>2,876,591</td>\n",
       "      <td>2,870,324</td>\n",
       "    </tr>\n",
       "    <tr>\n",
       "      <th>AL0</th>\n",
       "      <td>:</td>\n",
       "      <td>:</td>\n",
       "      <td>3,057,018</td>\n",
       "      <td>3,044,993</td>\n",
       "      <td>3,034,231</td>\n",
       "      <td>3,019,634</td>\n",
       "      <td>3,003,329</td>\n",
       "      <td>2,981,755</td>\n",
       "      <td>2,958,266</td>\n",
       "      <td>2,936,355</td>\n",
       "      <td>2,918,674</td>\n",
       "      <td>2,907,361</td>\n",
       "      <td>2,903,008</td>\n",
       "      <td>2,897,770</td>\n",
       "      <td>2,892,394</td>\n",
       "      <td>2,885,796</td>\n",
       "      <td>2,875,592</td>\n",
       "      <td>2,876,591</td>\n",
       "      <td>2,870,324</td>\n",
       "    </tr>\n",
       "    <tr>\n",
       "      <th>AL01</th>\n",
       "      <td>:</td>\n",
       "      <td>:</td>\n",
       "      <td>:</td>\n",
       "      <td>:</td>\n",
       "      <td>:</td>\n",
       "      <td>:</td>\n",
       "      <td>:</td>\n",
       "      <td>:</td>\n",
       "      <td>:</td>\n",
       "      <td>:</td>\n",
       "      <td>:</td>\n",
       "      <td>:</td>\n",
       "      <td>861,058</td>\n",
       "      <td>853,084</td>\n",
       "      <td>844,921</td>\n",
       "      <td>836,448</td>\n",
       "      <td>830,981</td>\n",
       "      <td>826,904</td>\n",
       "      <td>819,793</td>\n",
       "    </tr>\n",
       "    <tr>\n",
       "      <th>AL011</th>\n",
       "      <td>:</td>\n",
       "      <td>:</td>\n",
       "      <td>:</td>\n",
       "      <td>:</td>\n",
       "      <td>:</td>\n",
       "      <td>:</td>\n",
       "      <td>:</td>\n",
       "      <td>:</td>\n",
       "      <td>:</td>\n",
       "      <td>:</td>\n",
       "      <td>:</td>\n",
       "      <td>:</td>\n",
       "      <td>140,956</td>\n",
       "      <td>137,722</td>\n",
       "      <td>134,332</td>\n",
       "      <td>131,054</td>\n",
       "      <td>129,056</td>\n",
       "      <td>125,579</td>\n",
       "      <td>120,978</td>\n",
       "    </tr>\n",
       "    <tr>\n",
       "      <th>AL012</th>\n",
       "      <td>:</td>\n",
       "      <td>:</td>\n",
       "      <td>:</td>\n",
       "      <td>:</td>\n",
       "      <td>:</td>\n",
       "      <td>:</td>\n",
       "      <td>:</td>\n",
       "      <td>:</td>\n",
       "      <td>:</td>\n",
       "      <td>:</td>\n",
       "      <td>:</td>\n",
       "      <td>:</td>\n",
       "      <td>271,947</td>\n",
       "      <td>274,029</td>\n",
       "      <td>276,058</td>\n",
       "      <td>277,989</td>\n",
       "      <td>280,205</td>\n",
       "      <td>284,823</td>\n",
       "      <td>289,626</td>\n",
       "    </tr>\n",
       "  </tbody>\n",
       "</table>\n",
       "</div>"
      ],
      "text/plain": [
       "            2000       2001       2002       2003       2004       2005  \\\n",
       "GEO                                                                       \n",
       "AL     3,058,497  3,063,318  3,057,018  3,044,993  3,034,231  3,019,634   \n",
       "AL0            :          :  3,057,018  3,044,993  3,034,231  3,019,634   \n",
       "AL01           :          :          :          :          :          :   \n",
       "AL011          :          :          :          :          :          :   \n",
       "AL012          :          :          :          :          :          :   \n",
       "\n",
       "            2006       2007       2008       2009       2010       2011  \\\n",
       "GEO                                                                       \n",
       "AL     3,003,329  2,981,755  2,958,266  2,936,355  2,918,674  2,907,361   \n",
       "AL0    3,003,329  2,981,755  2,958,266  2,936,355  2,918,674  2,907,361   \n",
       "AL01           :          :          :          :          :          :   \n",
       "AL011          :          :          :          :          :          :   \n",
       "AL012          :          :          :          :          :          :   \n",
       "\n",
       "            2012       2013       2014       2015       2016       2017  \\\n",
       "GEO                                                                       \n",
       "AL     2,903,008  2,897,770  2,892,394  2,885,796  2,875,592  2,876,591   \n",
       "AL0    2,903,008  2,897,770  2,892,394  2,885,796  2,875,592  2,876,591   \n",
       "AL01     861,058    853,084    844,921    836,448    830,981    826,904   \n",
       "AL011    140,956    137,722    134,332    131,054    129,056    125,579   \n",
       "AL012    271,947    274,029    276,058    277,989    280,205    284,823   \n",
       "\n",
       "            2018  \n",
       "GEO               \n",
       "AL     2,870,324  \n",
       "AL0    2,870,324  \n",
       "AL01     819,793  \n",
       "AL011    120,978  \n",
       "AL012    289,626  "
      ]
     },
     "execution_count": 18,
     "metadata": {},
     "output_type": "execute_result"
    }
   ],
   "source": [
    "def list_of_nums(x):\n",
    "    lst = []\n",
    "    for i in x:\n",
    "        lst.append(i.replace())\n",
    "new_df = list_per_code.Value.apply(lambda x :pd.Series(x))\n",
    "new_cols = list(range(2000, 2019))\n",
    "new_df.columns = new_cols\n",
    "new_df.replace()\n",
    "new_df.head()"
   ]
  },
  {
   "cell_type": "code",
   "execution_count": null,
   "metadata": {},
   "outputs": [],
   "source": []
  },
  {
   "cell_type": "code",
   "execution_count": 7,
   "metadata": {},
   "outputs": [
    {
     "data": {
      "text/plain": [
       "'10,239,085'"
      ]
     },
     "execution_count": 7,
     "metadata": {},
     "output_type": "execute_result"
    }
   ],
   "source": [
    "# Get AL year 2000\n",
    "list_per_code.loc[\"BE\"][0][0]"
   ]
  },
  {
   "cell_type": "code",
   "execution_count": 8,
   "metadata": {},
   "outputs": [
    {
     "data": {
      "text/plain": [
       "'10,263,414'"
      ]
     },
     "execution_count": 8,
     "metadata": {},
     "output_type": "execute_result"
    }
   ],
   "source": [
    "# Get AL year 2001\n",
    "list_per_code.loc[\"BE\"][0][1]"
   ]
  },
  {
   "cell_type": "code",
   "execution_count": 11,
   "metadata": {},
   "outputs": [
    {
     "ename": "NameError",
     "evalue": "name 'x' is not defined",
     "output_type": "error",
     "traceback": [
      "\u001b[0;31m---------------------------------------------------------------------------\u001b[0m",
      "\u001b[0;31mNameError\u001b[0m                                 Traceback (most recent call last)",
      "\u001b[0;32m<ipython-input-11-8f7334af9ad9>\u001b[0m in \u001b[0;36m<module>\u001b[0;34m\u001b[0m\n\u001b[0;32m----> 1\u001b[0;31m \u001b[0mdata\u001b[0m\u001b[0;34m[\u001b[0m\u001b[0;34m\"GEO\"\u001b[0m\u001b[0;34m]\u001b[0m\u001b[0;34m.\u001b[0m\u001b[0mapply\u001b[0m\u001b[0;34m(\u001b[0m\u001b[0;32mlambda\u001b[0m \u001b[0mX\u001b[0m\u001b[0;34m:\u001b[0m \u001b[0mpd\u001b[0m\u001b[0;34m.\u001b[0m\u001b[0mSeries\u001b[0m\u001b[0;34m(\u001b[0m\u001b[0mx\u001b[0m\u001b[0;34m.\u001b[0m\u001b[0mvalues\u001b[0m\u001b[0;34m)\u001b[0m\u001b[0;34m)\u001b[0m\u001b[0;34m.\u001b[0m\u001b[0munstack\u001b[0m\u001b[0;34m(\u001b[0m\u001b[0;34m)\u001b[0m\u001b[0;34m\u001b[0m\u001b[0m\n\u001b[0m",
      "\u001b[0;32m~/.local/lib/python3.5/site-packages/pandas/core/series.py\u001b[0m in \u001b[0;36mapply\u001b[0;34m(self, func, convert_dtype, args, **kwds)\u001b[0m\n\u001b[1;32m   3589\u001b[0m             \u001b[0;32melse\u001b[0m\u001b[0;34m:\u001b[0m\u001b[0;34m\u001b[0m\u001b[0m\n\u001b[1;32m   3590\u001b[0m                 \u001b[0mvalues\u001b[0m \u001b[0;34m=\u001b[0m \u001b[0mself\u001b[0m\u001b[0;34m.\u001b[0m\u001b[0mastype\u001b[0m\u001b[0;34m(\u001b[0m\u001b[0mobject\u001b[0m\u001b[0;34m)\u001b[0m\u001b[0;34m.\u001b[0m\u001b[0mvalues\u001b[0m\u001b[0;34m\u001b[0m\u001b[0m\n\u001b[0;32m-> 3591\u001b[0;31m                 \u001b[0mmapped\u001b[0m \u001b[0;34m=\u001b[0m \u001b[0mlib\u001b[0m\u001b[0;34m.\u001b[0m\u001b[0mmap_infer\u001b[0m\u001b[0;34m(\u001b[0m\u001b[0mvalues\u001b[0m\u001b[0;34m,\u001b[0m \u001b[0mf\u001b[0m\u001b[0;34m,\u001b[0m \u001b[0mconvert\u001b[0m\u001b[0;34m=\u001b[0m\u001b[0mconvert_dtype\u001b[0m\u001b[0;34m)\u001b[0m\u001b[0;34m\u001b[0m\u001b[0m\n\u001b[0m\u001b[1;32m   3592\u001b[0m \u001b[0;34m\u001b[0m\u001b[0m\n\u001b[1;32m   3593\u001b[0m         \u001b[0;32mif\u001b[0m \u001b[0mlen\u001b[0m\u001b[0;34m(\u001b[0m\u001b[0mmapped\u001b[0m\u001b[0;34m)\u001b[0m \u001b[0;32mand\u001b[0m \u001b[0misinstance\u001b[0m\u001b[0;34m(\u001b[0m\u001b[0mmapped\u001b[0m\u001b[0;34m[\u001b[0m\u001b[0;36m0\u001b[0m\u001b[0;34m]\u001b[0m\u001b[0;34m,\u001b[0m \u001b[0mSeries\u001b[0m\u001b[0;34m)\u001b[0m\u001b[0;34m:\u001b[0m\u001b[0;34m\u001b[0m\u001b[0m\n",
      "\u001b[0;32mpandas/_libs/lib.pyx\u001b[0m in \u001b[0;36mpandas._libs.lib.map_infer\u001b[0;34m()\u001b[0m\n",
      "\u001b[0;32m<ipython-input-11-8f7334af9ad9>\u001b[0m in \u001b[0;36m<lambda>\u001b[0;34m(X)\u001b[0m\n\u001b[0;32m----> 1\u001b[0;31m \u001b[0mdata\u001b[0m\u001b[0;34m[\u001b[0m\u001b[0;34m\"GEO\"\u001b[0m\u001b[0;34m]\u001b[0m\u001b[0;34m.\u001b[0m\u001b[0mapply\u001b[0m\u001b[0;34m(\u001b[0m\u001b[0;32mlambda\u001b[0m \u001b[0mX\u001b[0m\u001b[0;34m:\u001b[0m \u001b[0mpd\u001b[0m\u001b[0;34m.\u001b[0m\u001b[0mSeries\u001b[0m\u001b[0;34m(\u001b[0m\u001b[0mx\u001b[0m\u001b[0;34m.\u001b[0m\u001b[0mvalues\u001b[0m\u001b[0;34m)\u001b[0m\u001b[0;34m)\u001b[0m\u001b[0;34m.\u001b[0m\u001b[0munstack\u001b[0m\u001b[0;34m(\u001b[0m\u001b[0;34m)\u001b[0m\u001b[0;34m\u001b[0m\u001b[0m\n\u001b[0m",
      "\u001b[0;31mNameError\u001b[0m: name 'x' is not defined"
     ]
    }
   ],
   "source": [
    "#data[\"GEO\"].apply(lambda X: pd.Series(x.values)).unstack()"
   ]
  },
  {
   "cell_type": "code",
   "execution_count": null,
   "metadata": {},
   "outputs": [],
   "source": []
  }
 ],
 "metadata": {
  "kernelspec": {
   "display_name": "Python 3",
   "language": "python",
   "name": "python3"
  },
  "language_info": {
   "codemirror_mode": {
    "name": "ipython",
    "version": 3
   },
   "file_extension": ".py",
   "mimetype": "text/x-python",
   "name": "python",
   "nbconvert_exporter": "python",
   "pygments_lexer": "ipython3",
   "version": "3.5.2"
  }
 },
 "nbformat": 4,
 "nbformat_minor": 2
}
