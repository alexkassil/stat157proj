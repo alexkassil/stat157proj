{
 "cells": [
  {
   "cell_type": "code",
   "execution_count": 1,
<<<<<<< HEAD
   "metadata": {
    "collapsed": true
   },
=======
   "metadata": {},
>>>>>>> a508a3fec153b048723e455b931b9a7af626515e
   "outputs": [],
   "source": [
    "import pandas as pd\n",
    "import numpy as np"
   ]
  },
  {
   "cell_type": "code",
   "execution_count": 2,
<<<<<<< HEAD
   "metadata": {
    "collapsed": true
   },
=======
   "metadata": {},
>>>>>>> a508a3fec153b048723e455b931b9a7af626515e
   "outputs": [],
   "source": [
    "data_dir = \"./data/demo_r_gind3_1_Data.csv\""
   ]
  },
  {
   "cell_type": "code",
   "execution_count": 3,
   "metadata": {},
   "outputs": [
    {
     "name": "stderr",
     "output_type": "stream",
     "text": [
      "/home/alex/.local/lib/python3.5/site-packages/ipykernel_launcher.py:3: FutureWarning: from_csv is deprecated. Please use read_csv(...) instead. Note that some of the default arguments are different, so please refer to the documentation for from_csv when changing your function calls\n",
      "  This is separate from the ipykernel package so we can avoid doing imports until\n"
     ]
    },
    {
     "data": {
      "text/html": [
       "<div>\n",
<<<<<<< HEAD
       "<style>\n",
       "    .dataframe thead tr:only-child th {\n",
       "        text-align: right;\n",
       "    }\n",
       "\n",
       "    .dataframe thead th {\n",
       "        text-align: left;\n",
=======
       "<style scoped>\n",
       "    .dataframe tbody tr th:only-of-type {\n",
       "        vertical-align: middle;\n",
>>>>>>> a508a3fec153b048723e455b931b9a7af626515e
       "    }\n",
       "\n",
       "    .dataframe tbody tr th {\n",
       "        vertical-align: top;\n",
       "    }\n",
<<<<<<< HEAD
=======
       "\n",
       "    .dataframe thead th {\n",
       "        text-align: right;\n",
       "    }\n",
>>>>>>> a508a3fec153b048723e455b931b9a7af626515e
       "</style>\n",
       "<table border=\"1\" class=\"dataframe\">\n",
       "  <thead>\n",
       "    <tr style=\"text-align: right;\">\n",
       "      <th></th>\n",
       "      <th>Year</th>\n",
       "      <th>GEO</th>\n",
       "      <th>GEO_LABEL</th>\n",
       "      <th>Value</th>\n",
       "    </tr>\n",
       "  </thead>\n",
       "  <tbody>\n",
       "    <tr>\n",
       "      <th>0</th>\n",
       "      <td>2000</td>\n",
       "      <td>BE</td>\n",
       "      <td>Belgium</td>\n",
       "      <td>10,239,085</td>\n",
       "    </tr>\n",
       "    <tr>\n",
       "      <th>1</th>\n",
       "      <td>2000</td>\n",
       "      <td>BE1</td>\n",
       "      <td>Région de Bruxelles-Capitale / Brussels Hoofds...</td>\n",
       "      <td>959,318</td>\n",
       "    </tr>\n",
       "    <tr>\n",
       "      <th>2</th>\n",
       "      <td>2000</td>\n",
       "      <td>BE10</td>\n",
       "      <td>Région de Bruxelles-Capitale / Brussels Hoofds...</td>\n",
       "      <td>959,318</td>\n",
       "    </tr>\n",
       "    <tr>\n",
       "      <th>3</th>\n",
       "      <td>2000</td>\n",
       "      <td>BE100</td>\n",
       "      <td>Arr. de Bruxelles-Capitale / Arr. van Brussel-...</td>\n",
       "      <td>959,318</td>\n",
       "    </tr>\n",
       "    <tr>\n",
       "      <th>4</th>\n",
       "      <td>2000</td>\n",
       "      <td>BE2</td>\n",
       "      <td>Vlaams Gewest</td>\n",
       "      <td>5,940,251</td>\n",
       "    </tr>\n",
       "  </tbody>\n",
       "</table>\n",
       "</div>"
      ],
      "text/plain": [
       "   Year    GEO                                          GEO_LABEL       Value\n",
       "0  2000     BE                                            Belgium  10,239,085\n",
       "1  2000    BE1  Région de Bruxelles-Capitale / Brussels Hoofds...     959,318\n",
       "2  2000   BE10  Région de Bruxelles-Capitale / Brussels Hoofds...     959,318\n",
       "3  2000  BE100  Arr. de Bruxelles-Capitale / Arr. van Brussel-...     959,318\n",
       "4  2000    BE2                                      Vlaams Gewest   5,940,251"
      ]
     },
     "execution_count": 3,
     "metadata": {},
     "output_type": "execute_result"
    }
   ],
   "source": [
    "\n",
    "\n",
    "data = pd.DataFrame.from_csv(data_dir, encoding = \"ISO-8859-1\")\n",
    "data.index = pd.Index(map(lambda x: x.year, data.index))\n",
    "data = data.reset_index()\n",
    "data = data.drop([data.columns[3], data.columns[5]], axis=1)\n",
    "data = data.rename(columns={\"index\": \"Year\"})\n",
    "data.head()"
   ]
  },
  {
   "cell_type": "code",
   "execution_count": 4,
   "metadata": {},
   "outputs": [
    {
     "data": {
      "text/plain": [
       "'10,239,085'"
      ]
     },
     "execution_count": 4,
     "metadata": {},
     "output_type": "execute_result"
    }
   ],
   "source": [
    "# Get BE Year 2000\n",
    "data[(data[\"Year\"] == 2000) & (data[\"GEO\"] == \"BE\")].iloc[0].Value"
   ]
  },
  {
   "cell_type": "code",
<<<<<<< HEAD
   "execution_count": 8,
=======
   "execution_count": 5,
>>>>>>> a508a3fec153b048723e455b931b9a7af626515e
   "metadata": {
    "scrolled": true
   },
   "outputs": [
    {
     "data": {
      "text/plain": [
       "'10,263,414'"
      ]
     },
<<<<<<< HEAD
     "execution_count": 8,
=======
     "execution_count": 5,
>>>>>>> a508a3fec153b048723e455b931b9a7af626515e
     "metadata": {},
     "output_type": "execute_result"
    }
   ],
   "source": [
    "# Get BE Year 2001\n",
    "data[(data[\"Year\"] == 2001) & (data[\"GEO\"] == \"BE\")].iloc[0].Value"
   ]
  },
  {
   "cell_type": "code",
<<<<<<< HEAD
   "execution_count": null,
   "metadata": {},
   "outputs": [],
   "source": []
  },
  {
   "cell_type": "code",
   "execution_count": 9,
=======
   "execution_count": 17,
>>>>>>> a508a3fec153b048723e455b931b9a7af626515e
   "metadata": {},
   "outputs": [
    {
     "data": {
      "text/html": [
       "<div>\n",
<<<<<<< HEAD
       "<style>\n",
       "    .dataframe thead tr:only-child th {\n",
       "        text-align: right;\n",
       "    }\n",
       "\n",
       "    .dataframe thead th {\n",
       "        text-align: left;\n",
=======
       "<style scoped>\n",
       "    .dataframe tbody tr th:only-of-type {\n",
       "        vertical-align: middle;\n",
>>>>>>> a508a3fec153b048723e455b931b9a7af626515e
       "    }\n",
       "\n",
       "    .dataframe tbody tr th {\n",
       "        vertical-align: top;\n",
       "    }\n",
<<<<<<< HEAD
=======
       "\n",
       "    .dataframe thead th {\n",
       "        text-align: right;\n",
       "    }\n",
>>>>>>> a508a3fec153b048723e455b931b9a7af626515e
       "</style>\n",
       "<table border=\"1\" class=\"dataframe\">\n",
       "  <thead>\n",
       "    <tr style=\"text-align: right;\">\n",
       "      <th></th>\n",
       "      <th>Value</th>\n",
       "    </tr>\n",
       "    <tr>\n",
       "      <th>GEO</th>\n",
       "      <th></th>\n",
       "    </tr>\n",
       "  </thead>\n",
       "  <tbody>\n",
       "    <tr>\n",
       "      <th>AL</th>\n",
       "      <td>[3,058,497, 3,063,318, 3,057,018, 3,044,993, 3...</td>\n",
       "    </tr>\n",
       "    <tr>\n",
       "      <th>AL0</th>\n",
       "      <td>[:, :, 3,057,018, 3,044,993, 3,034,231, 3,019,...</td>\n",
       "    </tr>\n",
       "    <tr>\n",
       "      <th>AL01</th>\n",
       "      <td>[:, :, :, :, :, :, :, :, :, :, :, :, 861,058, ...</td>\n",
       "    </tr>\n",
       "    <tr>\n",
       "      <th>AL011</th>\n",
       "      <td>[:, :, :, :, :, :, :, :, :, :, :, :, 140,956, ...</td>\n",
       "    </tr>\n",
       "    <tr>\n",
       "      <th>AL012</th>\n",
       "      <td>[:, :, :, :, :, :, :, :, :, :, :, :, 271,947, ...</td>\n",
       "    </tr>\n",
       "  </tbody>\n",
       "</table>\n",
       "</div>"
      ],
      "text/plain": [
       "                                                   Value\n",
       "GEO                                                     \n",
       "AL     [3,058,497, 3,063,318, 3,057,018, 3,044,993, 3...\n",
       "AL0    [:, :, 3,057,018, 3,044,993, 3,034,231, 3,019,...\n",
       "AL01   [:, :, :, :, :, :, :, :, :, :, :, :, 861,058, ...\n",
       "AL011  [:, :, :, :, :, :, :, :, :, :, :, :, 140,956, ...\n",
       "AL012  [:, :, :, :, :, :, :, :, :, :, :, :, 271,947, ..."
      ]
     },
<<<<<<< HEAD
     "execution_count": 9,
=======
     "execution_count": 17,
>>>>>>> a508a3fec153b048723e455b931b9a7af626515e
     "metadata": {},
     "output_type": "execute_result"
    }
   ],
   "source": [
    "list_per_code = data.groupby(\"GEO\").agg(lambda x: x.tolist())\n",
    "list_per_code = list_per_code.drop([\"Year\", \"GEO_LABEL\"], axis=1)\n",
    "list_per_code.head(5)"
   ]
  },
  {
   "cell_type": "code",
<<<<<<< HEAD
   "execution_count": 10,
=======
   "execution_count": 18,
   "metadata": {},
   "outputs": [
    {
     "data": {
      "text/html": [
       "<div>\n",
       "<style scoped>\n",
       "    .dataframe tbody tr th:only-of-type {\n",
       "        vertical-align: middle;\n",
       "    }\n",
       "\n",
       "    .dataframe tbody tr th {\n",
       "        vertical-align: top;\n",
       "    }\n",
       "\n",
       "    .dataframe thead th {\n",
       "        text-align: right;\n",
       "    }\n",
       "</style>\n",
       "<table border=\"1\" class=\"dataframe\">\n",
       "  <thead>\n",
       "    <tr style=\"text-align: right;\">\n",
       "      <th></th>\n",
       "      <th>2000</th>\n",
       "      <th>2001</th>\n",
       "      <th>2002</th>\n",
       "      <th>2003</th>\n",
       "      <th>2004</th>\n",
       "      <th>2005</th>\n",
       "      <th>2006</th>\n",
       "      <th>2007</th>\n",
       "      <th>2008</th>\n",
       "      <th>2009</th>\n",
       "      <th>2010</th>\n",
       "      <th>2011</th>\n",
       "      <th>2012</th>\n",
       "      <th>2013</th>\n",
       "      <th>2014</th>\n",
       "      <th>2015</th>\n",
       "      <th>2016</th>\n",
       "      <th>2017</th>\n",
       "      <th>2018</th>\n",
       "    </tr>\n",
       "    <tr>\n",
       "      <th>GEO</th>\n",
       "      <th></th>\n",
       "      <th></th>\n",
       "      <th></th>\n",
       "      <th></th>\n",
       "      <th></th>\n",
       "      <th></th>\n",
       "      <th></th>\n",
       "      <th></th>\n",
       "      <th></th>\n",
       "      <th></th>\n",
       "      <th></th>\n",
       "      <th></th>\n",
       "      <th></th>\n",
       "      <th></th>\n",
       "      <th></th>\n",
       "      <th></th>\n",
       "      <th></th>\n",
       "      <th></th>\n",
       "      <th></th>\n",
       "    </tr>\n",
       "  </thead>\n",
       "  <tbody>\n",
       "    <tr>\n",
       "      <th>AL</th>\n",
       "      <td>3,058,497</td>\n",
       "      <td>3,063,318</td>\n",
       "      <td>3,057,018</td>\n",
       "      <td>3,044,993</td>\n",
       "      <td>3,034,231</td>\n",
       "      <td>3,019,634</td>\n",
       "      <td>3,003,329</td>\n",
       "      <td>2,981,755</td>\n",
       "      <td>2,958,266</td>\n",
       "      <td>2,936,355</td>\n",
       "      <td>2,918,674</td>\n",
       "      <td>2,907,361</td>\n",
       "      <td>2,903,008</td>\n",
       "      <td>2,897,770</td>\n",
       "      <td>2,892,394</td>\n",
       "      <td>2,885,796</td>\n",
       "      <td>2,875,592</td>\n",
       "      <td>2,876,591</td>\n",
       "      <td>2,870,324</td>\n",
       "    </tr>\n",
       "    <tr>\n",
       "      <th>AL0</th>\n",
       "      <td>:</td>\n",
       "      <td>:</td>\n",
       "      <td>3,057,018</td>\n",
       "      <td>3,044,993</td>\n",
       "      <td>3,034,231</td>\n",
       "      <td>3,019,634</td>\n",
       "      <td>3,003,329</td>\n",
       "      <td>2,981,755</td>\n",
       "      <td>2,958,266</td>\n",
       "      <td>2,936,355</td>\n",
       "      <td>2,918,674</td>\n",
       "      <td>2,907,361</td>\n",
       "      <td>2,903,008</td>\n",
       "      <td>2,897,770</td>\n",
       "      <td>2,892,394</td>\n",
       "      <td>2,885,796</td>\n",
       "      <td>2,875,592</td>\n",
       "      <td>2,876,591</td>\n",
       "      <td>2,870,324</td>\n",
       "    </tr>\n",
       "    <tr>\n",
       "      <th>AL01</th>\n",
       "      <td>:</td>\n",
       "      <td>:</td>\n",
       "      <td>:</td>\n",
       "      <td>:</td>\n",
       "      <td>:</td>\n",
       "      <td>:</td>\n",
       "      <td>:</td>\n",
       "      <td>:</td>\n",
       "      <td>:</td>\n",
       "      <td>:</td>\n",
       "      <td>:</td>\n",
       "      <td>:</td>\n",
       "      <td>861,058</td>\n",
       "      <td>853,084</td>\n",
       "      <td>844,921</td>\n",
       "      <td>836,448</td>\n",
       "      <td>830,981</td>\n",
       "      <td>826,904</td>\n",
       "      <td>819,793</td>\n",
       "    </tr>\n",
       "    <tr>\n",
       "      <th>AL011</th>\n",
       "      <td>:</td>\n",
       "      <td>:</td>\n",
       "      <td>:</td>\n",
       "      <td>:</td>\n",
       "      <td>:</td>\n",
       "      <td>:</td>\n",
       "      <td>:</td>\n",
       "      <td>:</td>\n",
       "      <td>:</td>\n",
       "      <td>:</td>\n",
       "      <td>:</td>\n",
       "      <td>:</td>\n",
       "      <td>140,956</td>\n",
       "      <td>137,722</td>\n",
       "      <td>134,332</td>\n",
       "      <td>131,054</td>\n",
       "      <td>129,056</td>\n",
       "      <td>125,579</td>\n",
       "      <td>120,978</td>\n",
       "    </tr>\n",
       "    <tr>\n",
       "      <th>AL012</th>\n",
       "      <td>:</td>\n",
       "      <td>:</td>\n",
       "      <td>:</td>\n",
       "      <td>:</td>\n",
       "      <td>:</td>\n",
       "      <td>:</td>\n",
       "      <td>:</td>\n",
       "      <td>:</td>\n",
       "      <td>:</td>\n",
       "      <td>:</td>\n",
       "      <td>:</td>\n",
       "      <td>:</td>\n",
       "      <td>271,947</td>\n",
       "      <td>274,029</td>\n",
       "      <td>276,058</td>\n",
       "      <td>277,989</td>\n",
       "      <td>280,205</td>\n",
       "      <td>284,823</td>\n",
       "      <td>289,626</td>\n",
       "    </tr>\n",
       "  </tbody>\n",
       "</table>\n",
       "</div>"
      ],
      "text/plain": [
       "            2000       2001       2002       2003       2004       2005  \\\n",
       "GEO                                                                       \n",
       "AL     3,058,497  3,063,318  3,057,018  3,044,993  3,034,231  3,019,634   \n",
       "AL0            :          :  3,057,018  3,044,993  3,034,231  3,019,634   \n",
       "AL01           :          :          :          :          :          :   \n",
       "AL011          :          :          :          :          :          :   \n",
       "AL012          :          :          :          :          :          :   \n",
       "\n",
       "            2006       2007       2008       2009       2010       2011  \\\n",
       "GEO                                                                       \n",
       "AL     3,003,329  2,981,755  2,958,266  2,936,355  2,918,674  2,907,361   \n",
       "AL0    3,003,329  2,981,755  2,958,266  2,936,355  2,918,674  2,907,361   \n",
       "AL01           :          :          :          :          :          :   \n",
       "AL011          :          :          :          :          :          :   \n",
       "AL012          :          :          :          :          :          :   \n",
       "\n",
       "            2012       2013       2014       2015       2016       2017  \\\n",
       "GEO                                                                       \n",
       "AL     2,903,008  2,897,770  2,892,394  2,885,796  2,875,592  2,876,591   \n",
       "AL0    2,903,008  2,897,770  2,892,394  2,885,796  2,875,592  2,876,591   \n",
       "AL01     861,058    853,084    844,921    836,448    830,981    826,904   \n",
       "AL011    140,956    137,722    134,332    131,054    129,056    125,579   \n",
       "AL012    271,947    274,029    276,058    277,989    280,205    284,823   \n",
       "\n",
       "            2018  \n",
       "GEO               \n",
       "AL     2,870,324  \n",
       "AL0    2,870,324  \n",
       "AL01     819,793  \n",
       "AL011    120,978  \n",
       "AL012    289,626  "
      ]
     },
     "execution_count": 18,
     "metadata": {},
     "output_type": "execute_result"
    }
   ],
   "source": [
    "def list_of_nums(x):\n",
    "    lst = []\n",
    "    for i in x:\n",
    "        lst.append(i.replace())\n",
    "new_df = list_per_code.Value.apply(lambda x :pd.Series(x))\n",
    "new_cols = list(range(2000, 2019))\n",
    "new_df.columns = new_cols\n",
    "new_df.replace()\n",
    "new_df.head()"
   ]
  },
  {
   "cell_type": "code",
   "execution_count": null,
   "metadata": {},
   "outputs": [],
   "source": []
  },
  {
   "cell_type": "code",
   "execution_count": 7,
>>>>>>> a508a3fec153b048723e455b931b9a7af626515e
   "metadata": {},
   "outputs": [
    {
     "data": {
      "text/plain": [
       "'10,239,085'"
      ]
     },
<<<<<<< HEAD
     "execution_count": 10,
=======
     "execution_count": 7,
>>>>>>> a508a3fec153b048723e455b931b9a7af626515e
     "metadata": {},
     "output_type": "execute_result"
    }
   ],
   "source": [
    "# Get BE year 2000\n",
    "list_per_code.loc[\"BE\"][0][0]"
   ]
  },
  {
   "cell_type": "code",
<<<<<<< HEAD
   "execution_count": 11,
=======
   "execution_count": 8,
>>>>>>> a508a3fec153b048723e455b931b9a7af626515e
   "metadata": {},
   "outputs": [
    {
     "data": {
      "text/plain": [
       "'10,263,414'"
      ]
     },
<<<<<<< HEAD
     "execution_count": 11,
=======
     "execution_count": 8,
>>>>>>> a508a3fec153b048723e455b931b9a7af626515e
     "metadata": {},
     "output_type": "execute_result"
    }
   ],
   "source": [
    "# Get BE year 2001\n",
    "list_per_code.loc[\"BE\"][0][1]"
   ]
  },
  {
   "cell_type": "code",
<<<<<<< HEAD
   "execution_count": 14,
   "metadata": {},
   "outputs": [],
   "source": [
    "#list_per_code"
   ]
  },
  {
   "cell_type": "code",
   "execution_count": 35,
   "metadata": {},
   "outputs": [],
   "source": [
    "temp = list(map(lambda x: int(x.replace(\",\",'')), list_per_code.loc[\"FR\"][0]))"
   ]
  },
  {
   "cell_type": "code",
   "execution_count": 36,
   "metadata": {
    "collapsed": true
   },
   "outputs": [],
   "source": [
    "import matplotlib.pyplot as plt"
   ]
  },
  {
   "cell_type": "code",
   "execution_count": 37,
   "metadata": {},
   "outputs": [
    {
     "data": {
      "image/png": "iVBORw0KGgoAAAANSUhEUgAAAXcAAAEDCAYAAADOc0QpAAAABHNCSVQICAgIfAhkiAAAAAlwSFlz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\nJk+QuUFZAAAAAElFTkSuQmCC\n",
      "text/plain": [
       "<Figure size 432x288 with 1 Axes>"
      ]
     },
     "metadata": {},
     "output_type": "display_data"
    }
   ],
   "source": [
    "plt.plot(range(len(temp)), temp)\n",
    "plt.show()"
=======
   "execution_count": 11,
   "metadata": {},
   "outputs": [
    {
     "ename": "NameError",
     "evalue": "name 'x' is not defined",
     "output_type": "error",
     "traceback": [
      "\u001b[0;31m---------------------------------------------------------------------------\u001b[0m",
      "\u001b[0;31mNameError\u001b[0m                                 Traceback (most recent call last)",
      "\u001b[0;32m<ipython-input-11-8f7334af9ad9>\u001b[0m in \u001b[0;36m<module>\u001b[0;34m\u001b[0m\n\u001b[0;32m----> 1\u001b[0;31m \u001b[0mdata\u001b[0m\u001b[0;34m[\u001b[0m\u001b[0;34m\"GEO\"\u001b[0m\u001b[0;34m]\u001b[0m\u001b[0;34m.\u001b[0m\u001b[0mapply\u001b[0m\u001b[0;34m(\u001b[0m\u001b[0;32mlambda\u001b[0m \u001b[0mX\u001b[0m\u001b[0;34m:\u001b[0m \u001b[0mpd\u001b[0m\u001b[0;34m.\u001b[0m\u001b[0mSeries\u001b[0m\u001b[0;34m(\u001b[0m\u001b[0mx\u001b[0m\u001b[0;34m.\u001b[0m\u001b[0mvalues\u001b[0m\u001b[0;34m)\u001b[0m\u001b[0;34m)\u001b[0m\u001b[0;34m.\u001b[0m\u001b[0munstack\u001b[0m\u001b[0;34m(\u001b[0m\u001b[0;34m)\u001b[0m\u001b[0;34m\u001b[0m\u001b[0m\n\u001b[0m",
      "\u001b[0;32m~/.local/lib/python3.5/site-packages/pandas/core/series.py\u001b[0m in \u001b[0;36mapply\u001b[0;34m(self, func, convert_dtype, args, **kwds)\u001b[0m\n\u001b[1;32m   3589\u001b[0m             \u001b[0;32melse\u001b[0m\u001b[0;34m:\u001b[0m\u001b[0;34m\u001b[0m\u001b[0m\n\u001b[1;32m   3590\u001b[0m                 \u001b[0mvalues\u001b[0m \u001b[0;34m=\u001b[0m \u001b[0mself\u001b[0m\u001b[0;34m.\u001b[0m\u001b[0mastype\u001b[0m\u001b[0;34m(\u001b[0m\u001b[0mobject\u001b[0m\u001b[0;34m)\u001b[0m\u001b[0;34m.\u001b[0m\u001b[0mvalues\u001b[0m\u001b[0;34m\u001b[0m\u001b[0m\n\u001b[0;32m-> 3591\u001b[0;31m                 \u001b[0mmapped\u001b[0m \u001b[0;34m=\u001b[0m \u001b[0mlib\u001b[0m\u001b[0;34m.\u001b[0m\u001b[0mmap_infer\u001b[0m\u001b[0;34m(\u001b[0m\u001b[0mvalues\u001b[0m\u001b[0;34m,\u001b[0m \u001b[0mf\u001b[0m\u001b[0;34m,\u001b[0m \u001b[0mconvert\u001b[0m\u001b[0;34m=\u001b[0m\u001b[0mconvert_dtype\u001b[0m\u001b[0;34m)\u001b[0m\u001b[0;34m\u001b[0m\u001b[0m\n\u001b[0m\u001b[1;32m   3592\u001b[0m \u001b[0;34m\u001b[0m\u001b[0m\n\u001b[1;32m   3593\u001b[0m         \u001b[0;32mif\u001b[0m \u001b[0mlen\u001b[0m\u001b[0;34m(\u001b[0m\u001b[0mmapped\u001b[0m\u001b[0;34m)\u001b[0m \u001b[0;32mand\u001b[0m \u001b[0misinstance\u001b[0m\u001b[0;34m(\u001b[0m\u001b[0mmapped\u001b[0m\u001b[0;34m[\u001b[0m\u001b[0;36m0\u001b[0m\u001b[0;34m]\u001b[0m\u001b[0;34m,\u001b[0m \u001b[0mSeries\u001b[0m\u001b[0;34m)\u001b[0m\u001b[0;34m:\u001b[0m\u001b[0;34m\u001b[0m\u001b[0m\n",
      "\u001b[0;32mpandas/_libs/lib.pyx\u001b[0m in \u001b[0;36mpandas._libs.lib.map_infer\u001b[0;34m()\u001b[0m\n",
      "\u001b[0;32m<ipython-input-11-8f7334af9ad9>\u001b[0m in \u001b[0;36m<lambda>\u001b[0;34m(X)\u001b[0m\n\u001b[0;32m----> 1\u001b[0;31m \u001b[0mdata\u001b[0m\u001b[0;34m[\u001b[0m\u001b[0;34m\"GEO\"\u001b[0m\u001b[0;34m]\u001b[0m\u001b[0;34m.\u001b[0m\u001b[0mapply\u001b[0m\u001b[0;34m(\u001b[0m\u001b[0;32mlambda\u001b[0m \u001b[0mX\u001b[0m\u001b[0;34m:\u001b[0m \u001b[0mpd\u001b[0m\u001b[0;34m.\u001b[0m\u001b[0mSeries\u001b[0m\u001b[0;34m(\u001b[0m\u001b[0mx\u001b[0m\u001b[0;34m.\u001b[0m\u001b[0mvalues\u001b[0m\u001b[0;34m)\u001b[0m\u001b[0;34m)\u001b[0m\u001b[0;34m.\u001b[0m\u001b[0munstack\u001b[0m\u001b[0;34m(\u001b[0m\u001b[0;34m)\u001b[0m\u001b[0;34m\u001b[0m\u001b[0m\n\u001b[0m",
      "\u001b[0;31mNameError\u001b[0m: name 'x' is not defined"
     ]
    }
   ],
   "source": [
    "#data[\"GEO\"].apply(lambda X: pd.Series(x.values)).unstack()"
>>>>>>> a508a3fec153b048723e455b931b9a7af626515e
   ]
  },
  {
   "cell_type": "code",
   "execution_count": null,
   "metadata": {},
   "outputs": [],
   "source": []
  }
 ],
 "metadata": {
  "kernelspec": {
   "display_name": "Python 3",
   "language": "python",
   "name": "python3"
  },
  "language_info": {
   "codemirror_mode": {
    "name": "ipython",
    "version": 3
   },
   "file_extension": ".py",
   "mimetype": "text/x-python",
   "name": "python",
   "nbconvert_exporter": "python",
   "pygments_lexer": "ipython3",
   "version": "3.6.7"
  }
 },
 "nbformat": 4,
 "nbformat_minor": 2
}
